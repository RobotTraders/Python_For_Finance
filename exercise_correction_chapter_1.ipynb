{
 "cells": [
  {
   "cell_type": "code",
   "execution_count": null,
   "metadata": {
    "id": "FQpoFECiJiLG"
   },
   "outputs": [],
   "source": [
    "stock_value_now = 135  # current stock value\n",
    "stocks_bought_first = 20\n",
    "price_first = 60  # price at which the first set of stocks were bought\n",
    "stocks_bought_second = 10\n",
    "price_second = 145  # price at which the second set of stocks were bought\n",
    "stocks_sold = 8\n",
    "price_sold = 120  # price at which stocks were sold"
   ]
  },
  {
   "cell_type": "markdown",
   "metadata": {},
   "source": [
    "<h2>Calculate and display the total value of the current Apple stocks in John’s portfolio<h2>"
   ]
  },
  {
   "cell_type": "code",
   "execution_count": null,
   "metadata": {
    "id": "xRKG2uVuCeqN"
   },
   "outputs": [],
   "source": [
    "total_stocks = stocks_bought_first + stocks_bought_second - stocks_sold\n",
    "total_value = stock_value_now * total_stocks\n",
    "print(f\"Total value of the current Apple stocks in John’s portfolio: ${total_value:.2f}\")"
   ]
  },
  {
   "cell_type": "markdown",
   "metadata": {},
   "source": [
    "<h2>Calculate and display the average purchase price of John’s Apple stocks<h2>"
   ]
  },
  {
   "cell_type": "code",
   "execution_count": null,
   "metadata": {},
   "outputs": [],
   "source": [
    "total_spent_first = stocks_bought_first * price_first\n",
    "total_spent_second = stocks_bought_second * price_second\n",
    "average_price = (total_spent_first + total_spent_second) / (stocks_bought_first + stocks_bought_second)\n",
    "print(f\"Average purchase price of John’s Apple stocks: ${average_price:.2f}\")"
   ]
  },
  {
   "cell_type": "markdown",
   "metadata": {},
   "source": [
    "<h2>Calculate and display the potential total capital gain if John sells all his Apple stocks now<h2>"
   ]
  },
  {
   "cell_type": "code",
   "execution_count": null,
   "metadata": {},
   "outputs": [],
   "source": [
    "pnl_first = (stock_value_now - price_first) * stocks_bought_first\n",
    "pnl_second = (stock_value_now - price_second) * stocks_bought_second\n",
    "pnl_sold = (price_sold - price_first) * stocks_sold\n",
    "total_capital_gain = pnl_first + pnl_second - pnl_sold\n",
    "print(f\"Total capital gain if John sells all his Apple stocks now: ${total_capital_gain:.2f}\")"
   ]
  },
  {
   "cell_type": "markdown",
   "metadata": {},
   "source": [
    "<h2>Calculate and display the taxes John would incur on his capital gains in France and Belgium<h2>"
   ]
  },
  {
   "cell_type": "code",
   "execution_count": null,
   "metadata": {},
   "outputs": [],
   "source": [
    "tax_rate_france = 0.30\n",
    "tax_france = total_capital_gain * tax_rate_france\n",
    "tax_exempt_belgium = 500\n",
    "tax_rate_belgium = 0.40\n",
    "tax_belgium = max(total_capital_gain - tax_exempt_belgium, 0) * tax_rate_belgium\n",
    "print(f\"Taxes in France on his capital gains: ${tax_france:.2f}\")\n",
    "print(f\"Taxes in Belgium on his capital gains: ${tax_belgium:.2f}\")"
   ]
  },
  {
   "cell_type": "code",
   "execution_count": null,
   "metadata": {},
   "outputs": [],
   "source": []
  }
 ],
 "metadata": {
  "colab": {
   "collapsed_sections": [],
   "provenance": []
  },
  "kernelspec": {
   "display_name": "Python 3 (ipykernel)",
   "language": "python",
   "name": "python3"
  },
  "language_info": {
   "codemirror_mode": {
    "name": "ipython",
    "version": 3
   },
   "file_extension": ".py",
   "mimetype": "text/x-python",
   "name": "python",
   "nbconvert_exporter": "python",
   "pygments_lexer": "ipython3",
   "version": "3.10.12"
  }
 },
 "nbformat": 4,
 "nbformat_minor": 1
}
