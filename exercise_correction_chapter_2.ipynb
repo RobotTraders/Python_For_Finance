{
 "cells": [
  {
   "cell_type": "code",
   "execution_count": null,
   "metadata": {
    "id": "FQpoFECiJiLG"
   },
   "outputs": [],
   "source": [
    "# Given data\n",
    "initial_investment = 1000  # in Euros\n",
    "capitalization_goal = 2000  # in Euros\n",
    "annual_interest_rate = 0.04  # 4% interest rate\n",
    "\n",
    "# Question 1: How many years are we talking about to hit that target?\n",
    "investment = initial_investment\n",
    "years = 0\n",
    "\n",
    "while investment < capitalization_goal:\n",
    "    investment += investment * annual_interest_rate\n",
    "    years += 1\n",
    "\n",
    "print(f\"It will take {years} years to reach the capitalization goal at a {annual_interest_rate*100}% annual interest rate.\")\n",
    "\n",
    "# Question 2: Tinker with the annual interest rate and observe how it shifts the timeline.\n",
    "# For illustration, let's assume a new interest rate of 6%\n",
    "annual_interest_rate = 0.06\n",
    "investment = initial_investment\n",
    "years = 0\n",
    "\n",
    "while investment < capitalization_goal:\n",
    "    investment += investment * annual_interest_rate\n",
    "    years += 1\n",
    "\n",
    "print(f\"It will take {years} years to reach the capitalization goal at a {annual_interest_rate*100}% annual interest rate.\")\n",
    "\n",
    "# Question 3: Throw in a `for` loop to experiment with a range of annual interest rates\n",
    "for rate in range(2, 9):  # from 2% to 8%\n",
    "    annual_interest_rate = rate / 100  # convert percentage to decimal\n",
    "    investment = initial_investment\n",
    "    years = 0\n",
    "    while investment < capitalization_goal:\n",
    "        investment += investment * annual_interest_rate\n",
    "        years += 1\n",
    "\n",
    "    print(f\"At a {rate}% annual interest rate, it will take {years} years to reach the capitalization goal.\")"
   ]
  },
  {
   "cell_type": "code",
   "execution_count": null,
   "metadata": {},
   "outputs": [],
   "source": []
  }
 ],
 "metadata": {
  "colab": {
   "collapsed_sections": [],
   "provenance": []
  },
  "kernelspec": {
   "display_name": "Python 3 (ipykernel)",
   "language": "python",
   "name": "python3"
  },
  "language_info": {
   "codemirror_mode": {
    "name": "ipython",
    "version": 3
   },
   "file_extension": ".py",
   "mimetype": "text/x-python",
   "name": "python",
   "nbconvert_exporter": "python",
   "pygments_lexer": "ipython3",
   "version": "3.10.12"
  }
 },
 "nbformat": 4,
 "nbformat_minor": 1
}
