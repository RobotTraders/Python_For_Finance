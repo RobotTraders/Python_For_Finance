{
 "cells": [
  {
   "cell_type": "code",
   "execution_count": null,
   "metadata": {},
   "outputs": [],
   "source": [
    "transactions = [\n",
    "    {\n",
    "        \"symbol\": \"BTC\",\n",
    "        \"type\": \"buy\",\n",
    "        \"quantity\": 0.7,\n",
    "        \"price\": 27090.4,\n",
    "        \"date\": \"2022-03-07\",\n",
    "    },\n",
    "    {\n",
    "        \"symbol\": \"BTC\",\n",
    "        \"type\": \"sell\",\n",
    "        \"quantity\": 0.1,\n",
    "        \"price\": 26561.4,\n",
    "        \"date\": \"2022-04-12\",\n",
    "    },\n",
    "    {\n",
    "        \"symbol\": \"BTC\",\n",
    "        \"type\": \"buy\",\n",
    "        \"quantity\": 0.4,\n",
    "        \"price\": 28090.4,\n",
    "        \"date\": \"2022-05-21\",\n",
    "    },\n",
    "    {\n",
    "        \"symbol\": \"BTC\",\n",
    "        \"type\": \"buy\",\n",
    "        \"quantity\": 0.3,\n",
    "        \"price\": 25090.4,\n",
    "        \"date\": \"2022-06-02\",\n",
    "    },\n",
    "    {\n",
    "        \"symbol\": \"BTC\",\n",
    "        \"type\": \"sell\",\n",
    "        \"quantity\": 0.5,\n",
    "        \"price\": 32034.67,\n",
    "        \"date\": \"2022-06-29\",\n",
    "    },\n",
    "    {\n",
    "        \"symbol\": \"ETH\",\n",
    "        \"type\": \"buy\",\n",
    "        \"quantity\": 6,\n",
    "        \"price\": 1754,\n",
    "        \"date\": \"2022-05-21\",\n",
    "    },\n",
    "    {\n",
    "        \"symbol\": \"ETH\",\n",
    "        \"type\": \"buy\",\n",
    "        \"quantity\": 2,\n",
    "        \"price\": 1950,\n",
    "        \"date\": \"2022-06-02\",\n",
    "    },\n",
    "    {\n",
    "        \"symbol\": \"ETH\",\n",
    "        \"type\": \"sell\",\n",
    "        \"quantity\": 3,\n",
    "        \"price\": 2100.67,\n",
    "        \"date\": \"2022-06-29\",\n",
    "    },\n",
    "]"
   ]
  },
  {
   "cell_type": "code",
   "execution_count": null,
   "metadata": {
    "id": "FQpoFECiJiLG"
   },
   "outputs": [],
   "source": [
    "# 1. Create a dictionary with keys for each of the cryptocurrencies present in the transactions\n",
    "portfolio = {}\n",
    "for transaction in transactions:\n",
    "    symbol = transaction[\"symbol\"]\n",
    "    if symbol not in portfolio:\n",
    "        portfolio[symbol] = {}\n",
    "\n",
    "print(portfolio)"
   ]
  },
  {
   "cell_type": "code",
   "execution_count": null,
   "metadata": {},
   "outputs": [],
   "source": [
    "# 2. Add to the dictionary a key \"quantity\" which has as its value the quantity still present in the portfolio:\n",
    "for transaction in transactions:\n",
    "    symbol = transaction[\"symbol\"]\n",
    "    if \"quantity\" not in portfolio[symbol]:\n",
    "        portfolio[symbol][\"quantity\"] = 0\n",
    "    if transaction[\"type\"] == \"buy\":\n",
    "        portfolio[symbol][\"quantity\"] += transaction[\"quantity\"]\n",
    "    elif transaction[\"type\"] == \"sell\":\n",
    "        portfolio[symbol][\"quantity\"] -= transaction[\"quantity\"]\n",
    "\n",
    "print(portfolio)"
   ]
  },
  {
   "cell_type": "code",
   "execution_count": null,
   "metadata": {},
   "outputs": [],
   "source": [
    "# 3. Add our PNL for each of the cryptos\n",
    "today_prices = {\"BTC\": 35000, \"ETH\": 2400}\n",
    "\n",
    "for symbol, data in portfolio.items():\n",
    "    current_value = data[\"quantity\"] * today_prices[symbol]\n",
    "    total_spent = sum([t[\"price\"] * t[\"quantity\"] for t in transactions if t[\"symbol\"] == symbol and t[\"type\"] == \"buy\"])\n",
    "    data[\"pnl\"] = current_value - total_spent\n",
    "\n",
    "print(portfolio)"
   ]
  },
  {
   "cell_type": "code",
   "execution_count": null,
   "metadata": {},
   "outputs": [],
   "source": [
    "# 4. Add to the dictionary the average purchase price for each of the cryptos\n",
    "for symbol in portfolio:\n",
    "    total_quantity_bought = sum([t[\"quantity\"] for t in transactions if t[\"symbol\"] == symbol and t[\"type\"] == \"buy\"])\n",
    "    total_spent = sum([t[\"price\"] * t[\"quantity\"] for t in transactions if t[\"symbol\"] == symbol and t[\"type\"] == \"buy\"])\n",
    "    avg_price = total_spent / total_quantity_bought\n",
    "    portfolio[symbol][\"avg_price\"] = avg_price\n",
    "\n",
    "print(portfolio)"
   ]
  },
  {
   "cell_type": "code",
   "execution_count": null,
   "metadata": {},
   "outputs": [],
   "source": [
    "# Bonus: Display the quantity purchased on or after the date of 2022-06-02\n",
    "import datetime\n",
    "\n",
    "date_from = datetime.datetime.strptime(\"2022-06-02\", \"%Y-%m-%d\")\n",
    "\n",
    "# Dictionary to hold the total purchased qities for each crypto from the given date\n",
    "purchased_quantities = {}\n",
    "\n",
    "for transaction in transactions:\n",
    "    date_of_transaction = datetime.datetime.strptime(transaction[\"date\"], \"%Y-%m-%d\")\n",
    "    \n",
    "    if date_of_transaction >= date_from and transaction[\"type\"] == \"buy\":  # Note the change to '>='\n",
    "        # Add or update the quantity for the cryptocurrency in the dictionary\n",
    "        purchased_quantities[transaction['symbol']] = purchased_quantities.get(transaction['symbol'], 0) + transaction['quantity']\n",
    "\n",
    "# Print the accumulated quantities\n",
    "for symbol, quantity in purchased_quantities.items():\n",
    "    print(f\"{quantity} {symbol} bought on or after {date_from.date()}.\")"
   ]
  }
 ],
 "metadata": {
  "colab": {
   "collapsed_sections": [],
   "provenance": []
  },
  "kernelspec": {
   "display_name": "Python 3 (ipykernel)",
   "language": "python",
   "name": "python3"
  },
  "language_info": {
   "codemirror_mode": {
    "name": "ipython",
    "version": 3
   },
   "file_extension": ".py",
   "mimetype": "text/x-python",
   "name": "python",
   "nbconvert_exporter": "python",
   "pygments_lexer": "ipython3",
   "version": "3.10.12"
  }
 },
 "nbformat": 4,
 "nbformat_minor": 1
}
