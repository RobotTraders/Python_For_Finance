{
 "cells": [
  {
   "cell_type": "code",
   "execution_count": 13,
   "metadata": {},
   "outputs": [],
   "source": [
    "# 1. Define a Portfolio class with an assets attribute.\n",
    "class Portfolio:\n",
    "    def __init__(self):\n",
    "        # This is a dictionary to store the financial assets and their details.\n",
    "        self.assets = {}\n",
    "        \n",
    "    # 2. Implement an add_asset method.\n",
    "    def add_asset(self, asset_name, quantity, unit_value):\n",
    "        if asset_name in self.assets:\n",
    "            self.assets[asset_name]['quantity'] += quantity\n",
    "            self.assets[asset_name]['unit_value'] = unit_value\n",
    "        else:\n",
    "            self.assets[asset_name] = {'quantity': quantity, 'unit_value': unit_value}\n",
    "            \n",
    "    # 3. Create a remove_asset method.\n",
    "    def remove_asset(self, asset_name):\n",
    "        if asset_name in self.assets:\n",
    "            del self.assets[asset_name]\n",
    "        else:\n",
    "            print(f\"{asset_name} not found in the portfolio.\")\n",
    "            \n",
    "    # 4. Write an update_asset method.\n",
    "    def update_asset(self, asset_name, new_quantity, new_unit_value):\n",
    "        if asset_name in self.assets:\n",
    "            self.assets[asset_name]['quantity'] = new_quantity\n",
    "            self.assets[asset_name]['unit_value'] = new_unit_value\n",
    "        else:\n",
    "            print(f\"{asset_name} not found in the portfolio.\")\n",
    "            \n",
    "    # 5. Implement a get_total_value method.\n",
    "    def get_total_value(self):\n",
    "        total_value = 0\n",
    "        for asset, details in self.assets.items():\n",
    "            total_value += details['quantity'] * details['unit_value']\n",
    "        return total_value\n",
    "\n"
   ]
  },
  {
   "cell_type": "code",
   "execution_count": null,
   "metadata": {
    "id": "FQpoFECiJiLG"
   },
   "outputs": [],
   "source": [
    "## Usage Example\n",
    "\n",
    "# Creating an empty portfolio\n",
    "my_portfolio = Portfolio()\n",
    "\n",
    "# Adding financial assets\n",
    "my_portfolio.add_asset(\"AAPL\", 10, 150)\n",
    "my_portfolio.add_asset(\"GOOG\", 5, 1000)\n",
    "my_portfolio.add_asset(\"TSLA\", 8, 800)\n",
    "\n",
    "# Updating a financial asset\n",
    "my_portfolio.update_asset(\"AAPL\", 12, 160)\n",
    "\n",
    "# Removing a financial asset\n",
    "my_portfolio.remove_asset(\"GOOG\")\n",
    "\n",
    "# Calculating the total value of the portfolio\n",
    "total_value = my_portfolio.get_total_value()\n",
    "print(f\"The total portfolio value is {total_value} €.\")"
   ]
  }
 ],
 "metadata": {
  "colab": {
   "collapsed_sections": [],
   "provenance": []
  },
  "kernelspec": {
   "display_name": "Python 3 (ipykernel)",
   "language": "python",
   "name": "python3"
  },
  "language_info": {
   "codemirror_mode": {
    "name": "ipython",
    "version": 3
   },
   "file_extension": ".py",
   "mimetype": "text/x-python",
   "name": "python",
   "nbconvert_exporter": "python",
   "pygments_lexer": "ipython3",
   "version": "3.10.12"
  }
 },
 "nbformat": 4,
 "nbformat_minor": 1
}
