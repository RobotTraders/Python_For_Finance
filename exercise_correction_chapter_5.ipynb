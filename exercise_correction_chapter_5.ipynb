{
 "cells": [
  {
   "cell_type": "code",
   "execution_count": null,
   "metadata": {
    "id": "FQpoFECiJiLG"
   },
   "outputs": [],
   "source": [
    "import pandas as pd"
   ]
  },
  {
   "cell_type": "code",
   "execution_count": null,
   "metadata": {
    "executionInfo": {
     "elapsed": 279,
     "status": "ok",
     "timestamp": 1664704476788,
     "user": {
      "displayName": "Robot Traders",
      "userId": "10967389288640484535"
     },
     "user_tz": -120
    },
    "id": "ix8j_V3gWOt5"
   },
   "outputs": [],
   "source": [
    "df = pd.read_csv('TITANIC.csv')"
   ]
  },
  {
   "cell_type": "markdown",
   "metadata": {
    "id": "VLyBtxe4Xn6U"
   },
   "source": [
    "<h2>1. Display the dataset's first ten rows to get an overview.</h2>"
   ]
  },
  {
   "cell_type": "code",
   "execution_count": null,
   "metadata": {
    "id": "xRKG2uVuCeqN"
   },
   "outputs": [],
   "source": [
    "df.head(10)"
   ]
  },
  {
   "cell_type": "markdown",
   "metadata": {
    "executionInfo": {
     "elapsed": 436,
     "status": "ok",
     "timestamp": 1664704965133,
     "user": {
      "displayName": "Robot Traders",
      "userId": "10967389288640484535"
     },
     "user_tz": -120
    },
    "id": "-Ox7M5AMXn6V"
   },
   "source": [
    "<h2>2. Determine the dataset's dimensions (i.e. the number of rows and columns).</h2>"
   ]
  },
  {
   "cell_type": "code",
   "execution_count": null,
   "metadata": {},
   "outputs": [],
   "source": [
    "df.shape"
   ]
  },
  {
   "cell_type": "markdown",
   "metadata": {
    "executionInfo": {
     "elapsed": 436,
     "status": "ok",
     "timestamp": 1664704965133,
     "user": {
      "displayName": "Robot Traders",
      "userId": "10967389288640484535"
     },
     "user_tz": -120
    },
    "id": "-Ox7M5AMXn6V"
   },
   "source": [
    "<h2>3. How many passengers are in each class (Pclass)?</h2>"
   ]
  },
  {
   "cell_type": "code",
   "execution_count": null,
   "metadata": {},
   "outputs": [],
   "source": [
    "df['Pclass'].value_counts()"
   ]
  },
  {
   "cell_type": "markdown",
   "metadata": {
    "executionInfo": {
     "elapsed": 436,
     "status": "ok",
     "timestamp": 1664704965133,
     "user": {
      "displayName": "Robot Traders",
      "userId": "10967389288640484535"
     },
     "user_tz": -120
    },
    "id": "-Ox7M5AMXn6V"
   },
   "source": [
    "<h2>4. What is the average age of the passengers? What is the name of the youngest passenger? And the oldest?</h2>"
   ]
  },
  {
   "cell_type": "code",
   "execution_count": null,
   "metadata": {},
   "outputs": [],
   "source": [
    "average_age = df['Age'].mean()\n",
    "youngest = df[df['Age'] == df['Age'].min()]['Name'].iloc[0]\n",
    "oldest = df[df['Age'] == df['Age'].max()]['Name'].iloc[0]\n",
    "print(average_age)\n",
    "print(youngest)\n",
    "print(oldest)"
   ]
  },
  {
   "cell_type": "markdown",
   "metadata": {
    "executionInfo": {
     "elapsed": 436,
     "status": "ok",
     "timestamp": 1664704965133,
     "user": {
      "displayName": "Robot Traders",
      "userId": "10967389288640484535"
     },
     "user_tz": -120
    },
    "id": "-Ox7M5AMXn6V"
   },
   "source": [
    "<h2>5. How many passengers survived and how many died?</h2>"
   ]
  },
  {
   "cell_type": "code",
   "execution_count": null,
   "metadata": {},
   "outputs": [],
   "source": [
    "df['Survived'].value_counts()"
   ]
  },
  {
   "cell_type": "markdown",
   "metadata": {
    "executionInfo": {
     "elapsed": 436,
     "status": "ok",
     "timestamp": 1664704965133,
     "user": {
      "displayName": "Robot Traders",
      "userId": "10967389288640484535"
     },
     "user_tz": -120
    },
    "id": "-Ox7M5AMXn6V"
   },
   "source": [
    "<h2>6. How many women and how many men were on the Titanic?</h2>"
   ]
  },
  {
   "cell_type": "code",
   "execution_count": null,
   "metadata": {},
   "outputs": [],
   "source": [
    "df['Sex'].value_counts()"
   ]
  },
  {
   "cell_type": "markdown",
   "metadata": {
    "executionInfo": {
     "elapsed": 436,
     "status": "ok",
     "timestamp": 1664704965133,
     "user": {
      "displayName": "Robot Traders",
      "userId": "10967389288640484535"
     },
     "user_tz": -120
    },
    "id": "-Ox7M5AMXn6V"
   },
   "source": [
    "<h2>7. How many women survived? And how many men?</h2>"
   ]
  },
  {
   "cell_type": "code",
   "execution_count": null,
   "metadata": {},
   "outputs": [],
   "source": [
    "df.groupby('Sex')['Survived'].sum()"
   ]
  },
  {
   "cell_type": "markdown",
   "metadata": {
    "executionInfo": {
     "elapsed": 436,
     "status": "ok",
     "timestamp": 1664704965133,
     "user": {
      "displayName": "Robot Traders",
      "userId": "10967389288640484535"
     },
     "user_tz": -120
    },
    "id": "-Ox7M5AMXn6V"
   },
   "source": [
    "<h2>8. What is the survival rate by class?</h2>"
   ]
  },
  {
   "cell_type": "code",
   "execution_count": null,
   "metadata": {},
   "outputs": [],
   "source": [
    "df.groupby('Pclass')['Survived'].mean()"
   ]
  },
  {
   "cell_type": "markdown",
   "metadata": {
    "executionInfo": {
     "elapsed": 436,
     "status": "ok",
     "timestamp": 1664704965133,
     "user": {
      "displayName": "Robot Traders",
      "userId": "10967389288640484535"
     },
     "user_tz": -120
    },
    "id": "-Ox7M5AMXn6V"
   },
   "source": [
    "<h2>9. Create a new column 'FamilySize' which is the sum of the 'SibSp' columns (number of siblings or spouses) and 'Parch' (number of parents or children).</h2>"
   ]
  },
  {
   "cell_type": "code",
   "execution_count": null,
   "metadata": {},
   "outputs": [],
   "source": [
    "df['FamilySize'] = df['SibSp'] + df['Parch']\n",
    "df"
   ]
  },
  {
   "cell_type": "markdown",
   "metadata": {
    "executionInfo": {
     "elapsed": 436,
     "status": "ok",
     "timestamp": 1664704965133,
     "user": {
      "displayName": "Robot Traders",
      "userId": "10967389288640484535"
     },
     "user_tz": -120
    },
    "id": "-Ox7M5AMXn6V"
   },
   "source": [
    "<h2>10. What is the name of the person who did not survive and had the most family members?</h2>"
   ]
  },
  {
   "cell_type": "code",
   "execution_count": null,
   "metadata": {},
   "outputs": [],
   "source": [
    "non_survivors = df[df['Survived'] == 0]\n",
    "largest_family = non_survivors[non_survivors['FamilySize'] == non_survivors['FamilySize'].max()]\n",
    "largest_family_name = largest_family['Name'].iloc[0]\n",
    "print(largest_family_name )"
   ]
  }
 ],
 "metadata": {
  "colab": {
   "collapsed_sections": [],
   "provenance": []
  },
  "kernelspec": {
   "display_name": "Python 3 (ipykernel)",
   "language": "python",
   "name": "python3"
  },
  "language_info": {
   "codemirror_mode": {
    "name": "ipython",
    "version": 3
   },
   "file_extension": ".py",
   "mimetype": "text/x-python",
   "name": "python",
   "nbconvert_exporter": "python",
   "pygments_lexer": "ipython3",
   "version": "3.10.12"
  }
 },
 "nbformat": 4,
 "nbformat_minor": 1
}
