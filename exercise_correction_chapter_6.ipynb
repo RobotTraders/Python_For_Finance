{
 "cells": [
  {
   "cell_type": "code",
   "execution_count": null,
   "metadata": {
    "id": "FQpoFECiJiLG"
   },
   "outputs": [],
   "source": [
    "import pandas as pd\n",
    "import matplotlib.pyplot as plt\n",
    "import seaborn as sns"
   ]
  },
  {
   "cell_type": "code",
   "execution_count": null,
   "metadata": {
    "executionInfo": {
     "elapsed": 279,
     "status": "ok",
     "timestamp": 1664704476788,
     "user": {
      "displayName": "Robot Traders",
      "userId": "10967389288640484535"
     },
     "user_tz": -120
    },
    "id": "ix8j_V3gWOt5"
   },
   "outputs": [],
   "source": [
    "# Load the dataset\n",
    "df = pd.read_csv('house_sales_in_king_county_usa.csv')\n",
    "\n",
    "# Convert the 'date' column to datetime format\n",
    "df['date'] = pd.to_datetime(df['date'])"
   ]
  },
  {
   "cell_type": "code",
   "execution_count": null,
   "metadata": {
    "id": "xRKG2uVuCeqN"
   },
   "outputs": [],
   "source": [
    "# Part 1: Display the 5 Largest Sales Volumes by Year\n",
    "sales_by_year = df['date'].dt.year.value_counts().nlargest(5)\n",
    "plt.figure(figsize=(10, 5))\n",
    "sales_by_year.sort_index().plot(kind='bar')\n",
    "plt.title('Top 5 Years with the Largest Sales Volumes')\n",
    "plt.xlabel('Year')\n",
    "plt.ylabel('Number of Sales')\n",
    "plt.show()"
   ]
  },
  {
   "cell_type": "code",
   "execution_count": null,
   "metadata": {},
   "outputs": [],
   "source": [
    "# Part 2: Display the Price Distribution for Houses with vs. Without a Water View\n",
    "plt.figure(figsize=(10, 5))\n",
    "plt.hist(df[df['waterfront'] == 0]['price'], bins=30, alpha=0.5, label='Without Water View')\n",
    "plt.hist(df[df['waterfront'] == 1]['price'], bins=30, alpha=0.5, label='With Water View')\n",
    "plt.title('Price Distribution for Houses with and without Water View')\n",
    "plt.xlabel('Price')\n",
    "plt.ylabel('Number of Houses')\n",
    "plt.yscale('log')\n",
    "plt.legend()\n",
    "plt.show()"
   ]
  },
  {
   "cell_type": "code",
   "execution_count": null,
   "metadata": {},
   "outputs": [],
   "source": [
    "# Part 3: Correlation Diagram\n",
    "correlation_data = df[['price', 'sqft_living', 'grade', 'sqft_above', 'sqft_living15']]\n",
    "correlation_matrix = correlation_data.corr()\n",
    "plt.figure(figsize=(10, 8))\n",
    "sns.heatmap(correlation_matrix, annot=True, cmap='coolwarm')\n",
    "plt.title('Correlation Heatmap')\n",
    "plt.show()"
   ]
  },
  {
   "cell_type": "code",
   "execution_count": null,
   "metadata": {},
   "outputs": [],
   "source": [
    "# Part 4: Boxplot of Price by Grade\n",
    "plt.figure(figsize=(12, 6))\n",
    "sns.boxplot(x='grade', y='price', data=df)\n",
    "plt.title('Boxplot of Price by Grade')\n",
    "plt.show()"
   ]
  },
  {
   "cell_type": "code",
   "execution_count": null,
   "metadata": {},
   "outputs": [],
   "source": [
    "# Part 5: Scatterplot of 'Price' vs. 'Sqft_Living' with Linear Regression\n",
    "sns.lmplot(x='sqft_living', y='price', data=df, aspect=2, height=6)\n",
    "plt.title('Scatterplot of Price vs. Sqft_Living with Linear Regression')\n",
    "plt.xlabel('Sqft Living')\n",
    "plt.ylabel('Price')\n",
    "plt.show()"
   ]
  }
 ],
 "metadata": {
  "colab": {
   "collapsed_sections": [],
   "provenance": []
  },
  "kernelspec": {
   "display_name": "Python 3 (ipykernel)",
   "language": "python",
   "name": "python3"
  },
  "language_info": {
   "codemirror_mode": {
    "name": "ipython",
    "version": 3
   },
   "file_extension": ".py",
   "mimetype": "text/x-python",
   "name": "python",
   "nbconvert_exporter": "python",
   "pygments_lexer": "ipython3",
   "version": "3.10.12"
  }
 },
 "nbformat": 4,
 "nbformat_minor": 1
}
