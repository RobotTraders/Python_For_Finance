{
 "cells": [
  {
   "cell_type": "code",
   "execution_count": null,
   "metadata": {
    "id": "FQpoFECiJiLG"
   },
   "outputs": [],
   "source": [
    "import pandas as pd\n",
    "import matplotlib.pyplot as plt\n",
    "import seaborn as sns"
   ]
  },
  {
   "cell_type": "code",
   "execution_count": null,
   "metadata": {
    "executionInfo": {
     "elapsed": 279,
     "status": "ok",
     "timestamp": 1664704476788,
     "user": {
      "displayName": "Robot Traders",
      "userId": "10967389288640484535"
     },
     "user_tz": -120
    },
    "id": "ix8j_V3gWOt5"
   },
   "outputs": [],
   "source": [
    "# Importing and cleaning data\n",
    "crypto_list = [\"ADA\", \"BCH\", \"BNB\", \"BTC\", \"ETC\", \"ETH\", \"LINK\", \"LTC\", \"XLM\", \"XRP\"]\n",
    "df_list = {}\n",
    "for crypto in crypto_list:\n",
    "    df_list[crypto] = pd.read_csv(f\"{crypto}-USDT.csv\")\n",
    "    df_list[crypto][\"date\"] = pd.to_datetime(df_list[crypto][\"date\"], unit=\"ms\")\n",
    "    df_list[crypto] = df_list[crypto].set_index(\"date\")\n",
    "    duplicate_index = df_list[crypto].index.duplicated(keep='last')\n",
    "    df_list[crypto] = df_list[crypto][~duplicate_index]\n",
    "\n",
    "\n",
    "# Creating a single dataFrame\n",
    "df = pd.DataFrame()\n",
    "for crypto in df_list:\n",
    "    df[crypto] = df_list[crypto][\"close\"]\n",
    "df = df.dropna()\n",
    "\n",
    "\n",
    "# Calculating maximum drawdown and average returns\n",
    "def calculate_max_drawdown(series):\n",
    "    cumulative_max = series.cummax()\n",
    "    drawdown = (series - cumulative_max) / cumulative_max\n",
    "    return drawdown.min()\n",
    "\n",
    "max_drawdowns = df.apply(calculate_max_drawdown)\n",
    "average_returns = df.pct_change().mean()\n",
    "\n",
    "# Scatter plot with maximum drawdown\n",
    "fig, ax = plt.subplots(figsize=(10, 6))\n",
    "for col in df.columns:\n",
    "    ax.text(average_returns[col], max_drawdowns[col], col)\n",
    "    ax.scatter(average_returns[col], max_drawdowns[col], label=col)\n",
    "ax.set_xlabel('Average Return')\n",
    "ax.set_ylabel('Maximum Drawdown')\n",
    "plt.title('Average Returns vs Maximum Drawdown')\n",
    "ax.legend()\n",
    "plt.show()"
   ]
  },
  {
   "cell_type": "code",
   "execution_count": null,
   "metadata": {},
   "outputs": [],
   "source": [
    "# Counting number of drawdowns exceeding 10%\n",
    "def count_drawdowns(series):\n",
    "    cumulative_max = series.cummax()\n",
    "    drawdown = (series - cumulative_max) / cumulative_max\n",
    "    return (drawdown <= -0.1).sum()\n",
    "\n",
    "drawdown_counts = df.apply(count_drawdowns)\n",
    "\n",
    "# Printing drawdown counts\n",
    "print(\"Number of Drawdowns Exceeding 10%:\")\n",
    "print(drawdown_counts)"
   ]
  }
 ],
 "metadata": {
  "colab": {
   "collapsed_sections": [],
   "provenance": []
  },
  "kernelspec": {
   "display_name": "Python 3 (ipykernel)",
   "language": "python",
   "name": "python3"
  },
  "language_info": {
   "codemirror_mode": {
    "name": "ipython",
    "version": 3
   },
   "file_extension": ".py",
   "mimetype": "text/x-python",
   "name": "python",
   "nbconvert_exporter": "python",
   "pygments_lexer": "ipython3",
   "version": "3.12.0"
  }
 },
 "nbformat": 4,
 "nbformat_minor": 1
}
