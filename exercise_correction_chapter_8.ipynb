{
 "cells": [
  {
   "cell_type": "code",
   "execution_count": null,
   "metadata": {
    "id": "FQpoFECiJiLG"
   },
   "outputs": [],
   "source": [
    "import pandas as pd"
   ]
  },
  {
   "cell_type": "code",
   "execution_count": null,
   "metadata": {
    "executionInfo": {
     "elapsed": 279,
     "status": "ok",
     "timestamp": 1664704476788,
     "user": {
      "displayName": "Robot Traders",
      "userId": "10967389288640484535"
     },
     "user_tz": -120
    },
    "id": "ix8j_V3gWOt5"
   },
   "outputs": [],
   "source": [
    "# Load your Bitcoin data\n",
    "df = pd.read_csv(\"BTC-USDT.csv\")\n",
    "df[\"date\"] = pd.to_datetime(df[\"date\"], unit=\"ms\")"
   ]
  },
  {
   "cell_type": "code",
   "execution_count": null,
   "metadata": {},
   "outputs": [],
   "source": [
    "# Define the operational hours of the exchanges in UTC\n",
    "def is_exchange_open(row, start_hour, end_hour):\n",
    "    return row['date'].hour >= start_hour and row['date'].hour < end_hour\n",
    "\n",
    "# Add columns for each exchange's operational status\n",
    "df['Euronext_open'] = df.apply(lambda row: is_exchange_open(row, 8, 16) and row['date'].weekday() < 5, axis=1)\n",
    "df['NYSE_open'] = df.apply(lambda row: is_exchange_open(row, 14, 21) and row['date'].weekday() < 5, axis=1)\n",
    "df['Tokyo_open'] = df.apply(lambda row: is_exchange_open(row, 0, 6) and row['date'].weekday() < 5, axis=1)"
   ]
  },
  {
   "cell_type": "code",
   "execution_count": null,
   "metadata": {},
   "outputs": [],
   "source": [
    "# Analyze average trading volume\n",
    "euronext_volume = df.groupby('Euronext_open')['volume'].mean()\n",
    "nyse_volume = df.groupby('NYSE_open')['volume'].mean()\n",
    "tokyo_volume = df.groupby('Tokyo_open')['volume'].mean()"
   ]
  },
  {
   "cell_type": "code",
   "execution_count": null,
   "metadata": {},
   "outputs": [],
   "source": [
    "# Display the results\n",
    "print(\"Average Trading Volume - Euronext Open vs. Closed\")\n",
    "print(euronext_volume)\n",
    "print(\"\\nAverage Trading Volume - NYSE Open vs. Closed\")\n",
    "print(nyse_volume)\n",
    "print(\"\\nAverage Trading Volume - Tokyo Open vs. Closed\")\n",
    "print(tokyo_volume)"
   ]
  }
 ],
 "metadata": {
  "colab": {
   "collapsed_sections": [],
   "provenance": []
  },
  "kernelspec": {
   "display_name": "Python 3 (ipykernel)",
   "language": "python",
   "name": "python3"
  },
  "language_info": {
   "codemirror_mode": {
    "name": "ipython",
    "version": 3
   },
   "file_extension": ".py",
   "mimetype": "text/x-python",
   "name": "python",
   "nbconvert_exporter": "python",
   "pygments_lexer": "ipython3",
   "version": "3.12.0"
  }
 },
 "nbformat": 4,
 "nbformat_minor": 1
}
