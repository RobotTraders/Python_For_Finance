{
 "cells": [
  {
   "cell_type": "code",
   "execution_count": null,
   "metadata": {
    "id": "FQpoFECiJiLG"
   },
   "outputs": [],
   "source": [
    "import pandas as pd\n",
    "import ta"
   ]
  },
  {
   "cell_type": "code",
   "execution_count": null,
   "metadata": {
    "executionInfo": {
     "elapsed": 279,
     "status": "ok",
     "timestamp": 1664704476788,
     "user": {
      "displayName": "Robot Traders",
      "userId": "10967389288640484535"
     },
     "user_tz": -120
    },
    "id": "ix8j_V3gWOt5"
   },
   "outputs": [],
   "source": [
    "class BacktestBollingerBands:\n",
    "    def __init__(self) -> None:\n",
    "        self.df = pd.DataFrame()\n",
    "\n",
    "    def load_data(self, path):\n",
    "        self.df = pd.read_csv(path)\n",
    "        self.df[\"date\"] = pd.to_datetime(self.df[\"date\"], unit=\"ms\")\n",
    "        self.df = self.df.set_index(self.df[\"date\"])\n",
    "        del self.df[\"date\"]\n",
    "\n",
    "    def populate_indicators(self):\n",
    "        BB = ta.volatility.BollingerBands(self.df['close'], window = 20, window_dev = 2)\n",
    "        self.df['BB_UP'] = BB.bollinger_hband()\n",
    "        self.df['BB_MID'] = BB.bollinger_mavg()\n",
    "        self.df['BB_LOW'] = BB.bollinger_lband()\n",
    "\n",
    "    def populate_signals(self):\n",
    "        self.df['buy_signal'] = False\n",
    "        self.df['sell_signal'] = False\n",
    "        self.df.loc[(self.df['close'] > self.df['BB_UP']), 'buy_signal'] = True\n",
    "        self.df.loc[(self.df['close'] < self.df['BB_MID']), 'sell_signal'] = True\n",
    "\n",
    "    def run_backtest(self):\n",
    "        balance = 1000\n",
    "        position = None\n",
    "        asset = \"BTC\"\n",
    "\n",
    "        for index, row in self.df.iterrows():\n",
    "\n",
    "            if position is None and row['buy_signal']:\n",
    "                open_price = row['close']\n",
    "                position = {\n",
    "                    'open_price': open_price,\n",
    "                    'usd_size': balance,\n",
    "                }\n",
    "                print(f\"{index} - Buy for {balance}$ of {asset} at {open_price}$\")\n",
    "\n",
    "            elif position and row['sell_signal']:\n",
    "                close_price = row['close']\n",
    "                trade_result = (close_price - position['open_price']) / position['open_price']\n",
    "                balance = balance + trade_result * position['usd_size']\n",
    "                position = None\n",
    "                print(f\"{index} - Sell for {balance}$ of {asset} at {close_price}$\")\n",
    "                \n",
    "            \n",
    "        \n",
    "        print(f\"Final balance: {balance}$\")\n"
   ]
  },
  {
   "cell_type": "code",
   "execution_count": null,
   "metadata": {},
   "outputs": [],
   "source": [
    "bt = BacktestBollingerBands()\n",
    "bt.load_data('BTC-USDT.csv')\n",
    "bt.populate_indicators()\n",
    "bt.populate_signals()\n",
    "bt.run_backtest()"
   ]
  }
 ],
 "metadata": {
  "colab": {
   "collapsed_sections": [],
   "provenance": []
  },
  "kernelspec": {
   "display_name": "Python 3 (ipykernel)",
   "language": "python",
   "name": "python3"
  },
  "language_info": {
   "codemirror_mode": {
    "name": "ipython",
    "version": 3
   },
   "file_extension": ".py",
   "mimetype": "text/x-python",
   "name": "python",
   "nbconvert_exporter": "python",
   "pygments_lexer": "ipython3",
   "version": "3.12.0"
  }
 },
 "nbformat": 4,
 "nbformat_minor": 1
}
